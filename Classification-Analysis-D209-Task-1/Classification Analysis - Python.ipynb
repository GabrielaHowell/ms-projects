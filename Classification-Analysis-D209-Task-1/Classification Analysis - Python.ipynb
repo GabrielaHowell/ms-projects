{
 "cells": [
  {
   "cell_type": "code",
   "execution_count": null,
   "id": "09411fb7-f2c7-403f-9370-aa188d5ae05b",
   "metadata": {
    "tags": []
   },
   "outputs": [],
   "source": [
    "# Load libraries\n",
    "import pandas as pd  # Used for data manipulation\n",
    "import numpy as np  # Used for numerical operations\n",
    "import seaborn as sns  # Used for data visualization\n",
    "import matplotlib.pyplot as plt  # Used for plotting\n",
    "from sklearn.model_selection import train_test_split, GridSearchCV  # Used for model selection and hyperparameter tuning\n",
    "from sklearn.preprocessing import StandardScaler  # Used for feature scaling\n",
    "from sklearn.neighbors import KNeighborsClassifier  # Used for KNN classification\n",
    "from sklearn.metrics import confusion_matrix, classification_report, roc_auc_score, roc_curve  # Used for model evaluation\n",
    "from sklearn.feature_selection import SelectKBest, f_classif  # Used for feature selection\n",
    "from statsmodels.stats.outliers_influence import variance_inflation_factor  # Used to check multicollinearity\n",
    "\n",
    "# Load the medical dataset\n",
    "medical = pd.read_csv('medical_clean.csv')"
   ]
  },
  {
   "cell_type": "code",
   "execution_count": null,
   "id": "663285a6-c1e2-4244-b1d7-fdaecddbbb42",
   "metadata": {},
   "outputs": [],
   "source": [
    "# Check for duplicates in the dataset\n",
    "print(medical.duplicated().value_counts())\n",
    "\n",
    "# Identify missing values in each column\n",
    "missing_values = medical.isnull().sum()\n",
    "print(\"Missing Values in Each Column:\")\n",
    "print(missing_values)"
   ]
  },
  {
   "cell_type": "code",
   "execution_count": null,
   "id": "272eba51-eb4d-4c50-a77d-4d231298c4a7",
   "metadata": {},
   "outputs": [],
   "source": [
    "# Define a function to count outliers using IQR\n",
    "def count_outliers(series):\n",
    "    q1 = series.quantile(0.25)\n",
    "    q3 = series.quantile(0.75)\n",
    "    iqr = q3 - q1\n",
    "    lower_bound = q1 - 1.5 * iqr\n",
    "    upper_bound = q3 + 1.5 * iqr\n",
    "    outliers = (series < lower_bound) | (series > upper_bound)\n",
    "    return outliers.sum()\n",
    "\n",
    "# Select numeric columns for outlier detection\n",
    "numeric_columns = medical.select_dtypes(include=['float64', 'int64'])\n",
    "\n",
    "# Count outliers for each numeric column\n",
    "count_outliers = numeric_columns.apply(count_outliers)\n",
    "\n",
    "# Display the count of outliers\n",
    "print(count_outliers)"
   ]
  },
  {
   "cell_type": "code",
   "execution_count": null,
   "id": "fac539c6-1184-4fec-831e-612a1d33f7a3",
   "metadata": {},
   "outputs": [],
   "source": [
    "# Calculate descriptive statistics and identify outliers for specific columns of interest\n",
    "columns_of_interest = ['Lat', 'Lng', 'Population', 'Children', 'Income', 'VitD_levels', 'Full_meals_eaten',\n",
    "                       'vitD_supp', 'Additional_charges', 'Item1', 'Item2', 'Item3', 'Item4',\n",
    "                       'Item5', 'Item6', 'Item7', 'Item8']\n",
    "\n",
    "# Check if columns of interest exist in the DataFrame\n",
    "for col in columns_of_interest:\n",
    "    if col not in medical.columns:\n",
    "        print(f\"Column '{col}' does not exist in the DataFrame.\")\n",
    "\n",
    "# Calculate descriptive statistics for each column\n",
    "stats = medical[columns_of_interest].describe()\n",
    "\n",
    "# Identify columns with outliers\n",
    "for col in columns_of_interest:\n",
    "    q1 = stats.loc['25%', col]\n",
    "    q3 = stats.loc['75%', col]\n",
    "    iqr = q3 - q1\n",
    "    lower_whisker = q1 - 1.5 * iqr\n",
    "    upper_whisker = q3 + 1.5 * iqr\n",
    "    outliers = (medical[col] < lower_whisker) | (medical[col] > upper_whisker)\n",
    "    print(f\"\\nColumn: {col}\")\n",
    "    print(f\"Lower Whisker: {lower_whisker}\")\n",
    "    print(f\"Upper Whisker: {upper_whisker}\")\n",
    "    print(f\"Count of Outliers: {outliers.sum()}\")\n",
    "    if outliers.any():\n",
    "        plt.figure(figsize=(15, 5))\n",
    "        sns.boxplot(x=medical[col])\n",
    "        plt.title(f'Box Plot - {col} (with outliers)')\n",
    "        plt.show()\n"
   ]
  },
  {
   "cell_type": "code",
   "execution_count": null,
   "id": "827f5f66-1e67-411b-a8c2-5702baf83a43",
   "metadata": {},
   "outputs": [],
   "source": [
    "# Target Variable\n",
    "Y = medical['Anxiety']\n",
    "\n",
    "# Feature Data\n",
    "# Define columns to be dropped\n",
    "columns_to_drop = [\"Anxiety\", \"CaseOrder\", \"City\",\"Customer_id\", \"State\", \"County\", \"UID\",\"Interaction\",\"Job\",\"TimeZone\"]\n",
    "\n",
    "X = medical.drop(columns_to_drop, axis=1).copy()"
   ]
  },
  {
   "cell_type": "code",
   "execution_count": null,
   "id": "1e9a87ba-1130-43c3-8e0a-4d36328d500d",
   "metadata": {
    "tags": []
   },
   "outputs": [],
   "source": [
    "# Check data types of X\n",
    "print(X.dtypes)\n",
    "print(X.head()) \n",
    "\n",
    "# Check data type of Y\n",
    "print(Y.dtype)\n",
    "print(Y.head()) "
   ]
  },
  {
   "cell_type": "code",
   "execution_count": null,
   "id": "94350397-9d21-4f9e-8503-a5b7a14a1cab",
   "metadata": {
    "tags": []
   },
   "outputs": [],
   "source": [
    "# Select only the numerical columns from X\n",
    "numerical_columns = X.select_dtypes(include=['int64', 'float64'])\n",
    "\n",
    "# Summary statistics for numerical features\n",
    "summary_X = numerical_columns.describe()\n",
    "print(\"Summary statistics for X (numerical features only):\")\n",
    "print(summary_X)\n",
    "\n",
    "# Summary statistics for Y\n",
    "summary_Y = Y.value_counts()\n",
    "print(\"\\nSummary statistics for Y:\")\n",
    "print(summary_Y)\n",
    "\n",
    "# Select only the categorical columns from X\n",
    "categorical_columns = X.select_dtypes(include=['object'])\n",
    "\n",
    "# Summary statistics for categorical features\n",
    "summary_categorical = {}\n",
    "\n",
    "# Loop through each categorical column\n",
    "for column in categorical_columns.columns:\n",
    "    # Calculate frequency counts for each category\n",
    "    frequency_counts = categorical_columns[column].value_counts()\n",
    "    # Store the frequency counts in the summary dictionary\n",
    "    summary_categorical[column] = frequency_counts\n",
    "\n",
    "# Display summary statistics for categorical features\n",
    "print(\"\\nSummary statistics for X (categorical features only):\")\n",
    "for column, counts in summary_categorical.items():\n",
    "    print(f\"\\n{column}:\\n{counts}\")"
   ]
  },
  {
   "cell_type": "code",
   "execution_count": null,
   "id": "498f04e7-1995-48ad-ab19-3f8157ae0624",
   "metadata": {
    "tags": []
   },
   "outputs": [],
   "source": [
    "# Replace boolean values with integers\n",
    "Y = Y.replace({'Yes': 1,'No': 0})"
   ]
  },
  {
   "cell_type": "code",
   "execution_count": null,
   "id": "97234826-6f38-434b-92a7-ed8c4baa51f6",
   "metadata": {
    "tags": []
   },
   "outputs": [],
   "source": [
    "# Check for unique variables\n",
    "for column in X.columns:\n",
    "    unique_values = X[column].unique()\n",
    "    print(f\"Unique values in {column}: {unique_values}\")"
   ]
  },
  {
   "cell_type": "code",
   "execution_count": null,
   "id": "5d87e773-ec10-4a08-b83a-194b0fef0506",
   "metadata": {},
   "outputs": [],
   "source": [
    "print(\"Nominal Categorical Variables:\", \"Marital, Gender, ReAdmis, Soft_drink, Initial_admin, HighBlood, Stroke, Arthritis, Diabetes, Hyperlipidemia, BackPain, Allergic_rhinitis, Reflux_esophagitis, Asthma, Services\")\n",
    "print(\"Numeric Variables:\")\n",
    "print(\"Discrete:\", \"Population, Children, Doc_visits, Full_meals_eaten, vitD_supp, Item1, Item2, Item3, Item4, Item5, Item6, Item7, Item8\")\n",
    "print(\"Continuous:\", \"Age, Income, VitD_levels, Initial_days, TotalCharge, Additional_charge\")"
   ]
  },
  {
   "cell_type": "code",
   "execution_count": null,
   "id": "5431ae04-e636-4404-974e-ff3b736cdb14",
   "metadata": {
    "tags": []
   },
   "outputs": [],
   "source": [
    "# One-hot encoding for categorical variables\n",
    "# Dropping the first category to avoid the dummy variable trap\n",
    "categorical_cols = ['Marital', 'Gender', 'ReAdmis', 'Soft_drink', 'Initial_admin', 'HighBlood', \n",
    "                    'Stroke', 'Complication_risk', 'Overweight', 'Arthritis', 'Diabetes', \n",
    "                    'Hyperlipidemia', 'BackPain', 'Allergic_rhinitis', 'Reflux_esophagitis', \n",
    "                    'Asthma', 'Services','Area']\n",
    "x_encoded = pd.get_dummies(X[categorical_cols], drop_first=True)\n",
    "\n",
    "# Concatenate the original DataFrame with one-hot encoded features\n",
    "X_final = pd.concat([X.drop(columns=categorical_cols), x_encoded], axis=1)\n",
    "\n",
    "# Replace boolean values with integers in the X_final DataFrame\n",
    "X_final = X_final.replace({True: 1, False: 0})"
   ]
  },
  {
   "cell_type": "code",
   "execution_count": null,
   "id": "b751ae11-deb5-4d23-9fda-febf74833349",
   "metadata": {
    "tags": []
   },
   "outputs": [],
   "source": [
    "# Rename X_final to X\n",
    "X = X_final"
   ]
  },
  {
   "cell_type": "code",
   "execution_count": null,
   "id": "e767b0d1-4c5c-448e-89bf-019499ba4795",
   "metadata": {
    "tags": []
   },
   "outputs": [],
   "source": [
    "# Check for unique variables/ \n",
    "for column in X.columns:\n",
    "    unique_values = X[column].unique()\n",
    "    print(f\"Unique values in {column}: {unique_values}\")"
   ]
  },
  {
   "cell_type": "code",
   "execution_count": null,
   "id": "d4cb219d-fd48-4b2d-9e25-942bb9b529c7",
   "metadata": {
    "tags": []
   },
   "outputs": [],
   "source": [
    "# Standardize the X variables (explanatory) using StandardScaler\n",
    "scaler = StandardScaler()\n",
    "X = pd.DataFrame(scaler.fit_transform(X), columns=X.columns)"
   ]
  },
  {
   "cell_type": "code",
   "execution_count": null,
   "id": "007d9fe9-4b85-4d97-8006-22f3b084421d",
   "metadata": {
    "tags": []
   },
   "outputs": [],
   "source": [
    "X.head"
   ]
  },
  {
   "cell_type": "code",
   "execution_count": null,
   "id": "4308d7f6-dc29-4840-b153-e273d5564ad4",
   "metadata": {
    "tags": []
   },
   "outputs": [],
   "source": [
    "# Use SelectKBest to determine the best features to include in the model\n",
    "feat_select = SelectKBest(f_classif, k='all')\n",
    "feat_select.fit_transform(X, Y)\n",
    "feat_pvals = pd.DataFrame({'Feature' : X.columns, 'p_value' : feat_select.pvalues_}).sort_values('p_value') \n",
    "feat_pvals[feat_pvals['p_value'] < 0.05]"
   ]
  },
  {
   "cell_type": "code",
   "execution_count": null,
   "id": "2c722a68-9ebc-49ba-a75f-772b35ebadc7",
   "metadata": {
    "tags": []
   },
   "outputs": [],
   "source": [
    "# Use VIF to check for multicollinearity issues amongst these features\n",
    "X = X[[\"TotalCharge\",\"Area_Urban\"]]\n",
    "\n",
    "vif_df = pd.DataFrame()\n",
    "vif_df[\"feature\"] = X.columns\n",
    "\n",
    "vif_df[\"VIF\"] = [variance_inflation_factor(X.values, i)\n",
    "for i in range(len(X.columns))]\n",
    "\n",
    "print(vif_df)"
   ]
  },
  {
   "cell_type": "code",
   "execution_count": null,
   "id": "c5381a0d-fd9a-4b83-b3c8-d59bc4c617cb",
   "metadata": {
    "tags": []
   },
   "outputs": [],
   "source": [
    "# Provide a copy of the cleaned data set\n",
    "data_combined = pd.concat([X, Y], axis=1)\n",
    "\n",
    "data_combined.to_csv('D209_part1_clean.csv')"
   ]
  },
  {
   "cell_type": "code",
   "execution_count": null,
   "id": "517ed737-e67c-4d05-a068-f67a5676d05c",
   "metadata": {},
   "outputs": [],
   "source": [
    "# Split the dataset into training and testing sets\n",
    "X_train, X_test, Y_train, Y_test = train_test_split(X, Y, test_size=0.2, random_state=42, stratify=Y)\n"
   ]
  },
  {
   "cell_type": "code",
   "execution_count": null,
   "id": "e2be03b7-2b0b-4415-9fdd-e016fb08edb7",
   "metadata": {
    "tags": []
   },
   "outputs": [],
   "source": [
    "#Save the training and testing sets as csv files\n",
    "pd.DataFrame(X_train).to_csv('X_train_task1.csv')\n",
    "pd.DataFrame(X_test).to_csv('X_test_task1.csv')\n",
    "pd.DataFrame(Y_train).to_csv('Y_train_task1.csv')\n",
    "pd.DataFrame(Y_test).to_csv('Y_test_task1.csv')"
   ]
  },
  {
   "cell_type": "code",
   "execution_count": null,
   "id": "512fdb0c-4dee-4b1a-b74c-f26d5e962866",
   "metadata": {},
   "outputs": [],
   "source": [
    "# Determine what is the best number of neighbors to use for KNN classification\n",
    "param_grid = {'n_neighbors' : np.arange(1, 50)}\n",
    "knn = KNeighborsClassifier()\n",
    "# Use GridSearchCV object, searching across the provided parameter grid and 5 fold cross validation\n",
    "knn_cv = GridSearchCV(knn, param_grid, cv=5)\n",
    "# Fit to training data\n",
    "knn_cv.fit(X_train, Y_train)\n",
    "# Find best parameter from GridSearchCV\n",
    "knn_cv.best_params_"
   ]
  },
  {
   "cell_type": "code",
   "execution_count": null,
   "id": "4b6d90e6-182f-4329-be05-e9c332b1fa83",
   "metadata": {
    "tags": []
   },
   "outputs": [],
   "source": [
    "# Find score of best parameter from GridSearchCV\n",
    "knn_cv.best_score_"
   ]
  },
  {
   "cell_type": "code",
   "execution_count": null,
   "id": "aa9387dd-00e3-4c41-842c-28fb288e2f97",
   "metadata": {
    "tags": []
   },
   "outputs": [],
   "source": [
    "# Perform KNN using the value found from grid search\n",
    "knn = KNeighborsClassifier(n_neighbors = 46)"
   ]
  },
  {
   "cell_type": "code",
   "execution_count": null,
   "id": "197c0274-9583-4d66-a617-14aa8ae11cf8",
   "metadata": {},
   "outputs": [],
   "source": [
    "# Fit to training data\n",
    "knn.fit(X_train, Y_train)"
   ]
  },
  {
   "cell_type": "code",
   "execution_count": null,
   "id": "803f19d0-8401-42c4-af77-a91e40d4017c",
   "metadata": {
    "tags": []
   },
   "outputs": [],
   "source": [
    "# Make predictions on the training data\n",
    "Y_pred_train = knn.predict(X_train)\n",
    "\n",
    "# Make predictions on the testing data\n",
    "Y_pred_test = knn.predict(X_test)"
   ]
  },
  {
   "cell_type": "code",
   "execution_count": null,
   "id": "e866ca7b-cd7e-4871-b480-492b7521158b",
   "metadata": {
    "tags": []
   },
   "outputs": [],
   "source": [
    "# An evaluation the model\n",
    "train_accuracy = knn.score(X_train, Y_train)\n",
    "test_accuracy = knn.score(X_test, Y_test)\n",
    "\n",
    "print(\"Train Accuracy:\", train_accuracy)\n",
    "print(\"Test Accuracy:\", test_accuracy)"
   ]
  },
  {
   "cell_type": "code",
   "execution_count": null,
   "id": "9da192d2-a611-40b0-84a8-b4f2c2ffc0ff",
   "metadata": {
    "tags": []
   },
   "outputs": [],
   "source": [
    "# Generate confusion matrix and accuracy score of model\n",
    "final_matrix = confusion_matrix(Y_test, Y_pred_test)\n",
    "print(\"The confusion matrix for this KNN model:\")\n",
    "print(\"Predicted No Anxiety | Predicted Anxiety\")\n",
    "print(f\"                 {final_matrix[0]} Actual No Anxiety\")\n",
    "print(f\"                 {final_matrix[1]} Actual Anxiety\")\n",
    "print(f\"The training accuracy of this KNN classification is {train_accuracy}.\")\n",
    "print(f\"The testing accuracy of this KNN classification model is {test_accuracy}.\")"
   ]
  },
  {
   "cell_type": "code",
   "execution_count": null,
   "id": "e22cb1bc-9a66-4f7c-b7ee-9eff0055984c",
   "metadata": {
    "tags": []
   },
   "outputs": [],
   "source": [
    "# Heatmap for better interpretation of the confusion matrix\n",
    "plt.figure(figsize=(10, 7))\n",
    "sns.heatmap(final_matrix, annot=True, fmt='d', cmap='Blues', xticklabels=['Predicted No Anxiety', 'Predicted Anxiety'], yticklabels=['Actual No Anxiety', 'Actual Anxiety'])\n",
    "plt.xlabel('Predicted')\n",
    "plt.ylabel('Actual')\n",
    "plt.title('Confusion Matrix Heatmap for KNN Model')\n",
    "plt.show()"
   ]
  },
  {
   "cell_type": "code",
   "execution_count": null,
   "id": "5e94a511-83fd-43e9-beb2-5ae532d839e3",
   "metadata": {
    "tags": []
   },
   "outputs": [],
   "source": [
    "# Generate AUC score and print\n",
    "Y_pred_prob = knn.predict_proba(X_test)[:, 1]\n",
    "fpr, tpr, thresholds = roc_curve(Y_test, Y_pred_prob)\n",
    "plt.plot([0, 1], [0, 1], 'k--')\n",
    "plt.plot(fpr, tpr)\n",
    "plt.xlabel('False Positive Rate')\n",
    "plt.ylabel('True Positive Rate')\n",
    "plt.title('ROC Curve for KNN Classification')\n",
    "plt.show()\n",
    "print(f\"The Area Under the Curve (AUC) score is: {roc_auc_score(Y_test, Y_pred_prob)}\\n\")\n",
    "print(classification_report(Y_test, Y_pred_test))"
   ]
  }
 ],
 "metadata": {
  "kernelspec": {
   "display_name": "Python 3 (ipykernel)",
   "language": "python",
   "name": "python3"
  },
  "language_info": {
   "codemirror_mode": {
    "name": "ipython",
    "version": 3
   },
   "file_extension": ".py",
   "mimetype": "text/x-python",
   "name": "python",
   "nbconvert_exporter": "python",
   "pygments_lexer": "ipython3",
   "version": "3.11.5"
  }
 },
 "nbformat": 4,
 "nbformat_minor": 5
}
